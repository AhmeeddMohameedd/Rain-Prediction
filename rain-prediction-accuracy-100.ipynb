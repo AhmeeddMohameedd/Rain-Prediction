{
 "cells": [
  {
   "cell_type": "markdown",
   "id": "b68b7866",
   "metadata": {
    "papermill": {
     "duration": 0.008164,
     "end_time": "2025-05-04T20:39:23.791979",
     "exception": false,
     "start_time": "2025-05-04T20:39:23.783815",
     "status": "completed"
    },
    "tags": []
   },
   "source": [
    "# Importing Libraries"
   ]
  },
  {
   "cell_type": "code",
   "execution_count": 1,
   "id": "e4474fa1",
   "metadata": {
    "execution": {
     "iopub.execute_input": "2025-05-04T20:39:23.808055Z",
     "iopub.status.busy": "2025-05-04T20:39:23.807695Z",
     "iopub.status.idle": "2025-05-04T20:39:30.792831Z",
     "shell.execute_reply": "2025-05-04T20:39:30.791582Z"
    },
    "papermill": {
     "duration": 6.995493,
     "end_time": "2025-05-04T20:39:30.794869",
     "exception": false,
     "start_time": "2025-05-04T20:39:23.799376",
     "status": "completed"
    },
    "tags": []
   },
   "outputs": [
    {
     "name": "stdout",
     "output_type": "stream",
     "text": [
      "Requirement already satisfied: scikit-learn==1.2.2 in /usr/local/lib/python3.11/dist-packages (1.2.2)\r\n",
      "Collecting imbalanced-learn==0.10.1\r\n",
      "  Downloading imbalanced_learn-0.10.1-py3-none-any.whl.metadata (8.2 kB)\r\n",
      "Requirement already satisfied: numpy>=1.17.3 in /usr/local/lib/python3.11/dist-packages (from scikit-learn==1.2.2) (1.26.4)\r\n",
      "Requirement already satisfied: scipy>=1.3.2 in /usr/local/lib/python3.11/dist-packages (from scikit-learn==1.2.2) (1.15.2)\r\n",
      "Requirement already satisfied: joblib>=1.1.1 in /usr/local/lib/python3.11/dist-packages (from scikit-learn==1.2.2) (1.4.2)\r\n",
      "Requirement already satisfied: threadpoolctl>=2.0.0 in /usr/local/lib/python3.11/dist-packages (from scikit-learn==1.2.2) (3.6.0)\r\n",
      "Requirement already satisfied: mkl_fft in /usr/local/lib/python3.11/dist-packages (from numpy>=1.17.3->scikit-learn==1.2.2) (1.3.8)\r\n",
      "Requirement already satisfied: mkl_random in /usr/local/lib/python3.11/dist-packages (from numpy>=1.17.3->scikit-learn==1.2.2) (1.2.4)\r\n",
      "Requirement already satisfied: mkl_umath in /usr/local/lib/python3.11/dist-packages (from numpy>=1.17.3->scikit-learn==1.2.2) (0.1.1)\r\n",
      "Requirement already satisfied: mkl in /usr/local/lib/python3.11/dist-packages (from numpy>=1.17.3->scikit-learn==1.2.2) (2025.1.0)\r\n",
      "Requirement already satisfied: tbb4py in /usr/local/lib/python3.11/dist-packages (from numpy>=1.17.3->scikit-learn==1.2.2) (2022.1.0)\r\n",
      "Requirement already satisfied: mkl-service in /usr/local/lib/python3.11/dist-packages (from numpy>=1.17.3->scikit-learn==1.2.2) (2.4.1)\r\n",
      "Requirement already satisfied: intel-openmp<2026,>=2024 in /usr/local/lib/python3.11/dist-packages (from mkl->numpy>=1.17.3->scikit-learn==1.2.2) (2024.2.0)\r\n",
      "Requirement already satisfied: tbb==2022.* in /usr/local/lib/python3.11/dist-packages (from mkl->numpy>=1.17.3->scikit-learn==1.2.2) (2022.1.0)\r\n",
      "Requirement already satisfied: tcmlib==1.* in /usr/local/lib/python3.11/dist-packages (from tbb==2022.*->mkl->numpy>=1.17.3->scikit-learn==1.2.2) (1.2.0)\r\n",
      "Requirement already satisfied: intel-cmplr-lib-rt in /usr/local/lib/python3.11/dist-packages (from mkl_umath->numpy>=1.17.3->scikit-learn==1.2.2) (2024.2.0)\r\n",
      "Requirement already satisfied: intel-cmplr-lib-ur==2024.2.0 in /usr/local/lib/python3.11/dist-packages (from intel-openmp<2026,>=2024->mkl->numpy>=1.17.3->scikit-learn==1.2.2) (2024.2.0)\r\n",
      "Downloading imbalanced_learn-0.10.1-py3-none-any.whl (226 kB)\r\n",
      "\u001b[2K   \u001b[90m━━━━━━━━━━━━━━━━━━━━━━━━━━━━━━━━━━━━━━━━\u001b[0m \u001b[32m226.0/226.0 kB\u001b[0m \u001b[31m5.9 MB/s\u001b[0m eta \u001b[36m0:00:00\u001b[0m\r\n",
      "\u001b[?25hInstalling collected packages: imbalanced-learn\r\n",
      "  Attempting uninstall: imbalanced-learn\r\n",
      "    Found existing installation: imbalanced-learn 0.13.0\r\n",
      "    Uninstalling imbalanced-learn-0.13.0:\r\n",
      "      Successfully uninstalled imbalanced-learn-0.13.0\r\n",
      "Successfully installed imbalanced-learn-0.10.1\r\n"
     ]
    }
   ],
   "source": [
    "!pip install -U scikit-learn==1.2.2 imbalanced-learn==0.10.1"
   ]
  },
  {
   "cell_type": "code",
   "execution_count": 2,
   "id": "15c1cc35",
   "metadata": {
    "execution": {
     "iopub.execute_input": "2025-05-04T20:39:30.812966Z",
     "iopub.status.busy": "2025-05-04T20:39:30.812625Z",
     "iopub.status.idle": "2025-05-04T20:39:56.751091Z",
     "shell.execute_reply": "2025-05-04T20:39:56.749777Z"
    },
    "papermill": {
     "duration": 25.95009,
     "end_time": "2025-05-04T20:39:56.753291",
     "exception": false,
     "start_time": "2025-05-04T20:39:30.803201",
     "status": "completed"
    },
    "tags": []
   },
   "outputs": [
    {
     "name": "stderr",
     "output_type": "stream",
     "text": [
      "2025-05-04 20:39:38.909214: E external/local_xla/xla/stream_executor/cuda/cuda_fft.cc:477] Unable to register cuFFT factory: Attempting to register factory for plugin cuFFT when one has already been registered\n",
      "WARNING: All log messages before absl::InitializeLog() is called are written to STDERR\n",
      "E0000 00:00:1746391179.245683      13 cuda_dnn.cc:8310] Unable to register cuDNN factory: Attempting to register factory for plugin cuDNN when one has already been registered\n",
      "E0000 00:00:1746391179.353971      13 cuda_blas.cc:1418] Unable to register cuBLAS factory: Attempting to register factory for plugin cuBLAS when one has already been registered\n"
     ]
    }
   ],
   "source": [
    "import pandas as pd\n",
    "import numpy as np\n",
    "import seaborn as sns\n",
    "import matplotlib.pyplot as plt\n",
    "\n",
    "from sklearn.impute import SimpleImputer\n",
    "from sklearn.preprocessing import LabelEncoder,OneHotEncoder\n",
    "from sklearn.compose import ColumnTransformer\n",
    "from imblearn.over_sampling import SMOTE\n",
    "from sklearn.model_selection import train_test_split\n",
    "from sklearn.preprocessing import MinMaxScaler\n",
    "\n",
    "\n",
    "from scipy.stats import zscore\n",
    "from sklearn.linear_model import LogisticRegression\n",
    "from sklearn.tree import DecisionTreeClassifier\n",
    "from sklearn.ensemble import RandomForestClassifier\n",
    "from sklearn.svm import SVC\n",
    "from sklearn.naive_bayes import GaussianNB\n",
    "from sklearn.neighbors import KNeighborsClassifier\n",
    "from sklearn.metrics import accuracy_score,precision_score,recall_score,f1_score ,confusion_matrix,classification_report\n",
    "from tensorflow.keras import layers\n",
    "\n",
    "import joblib"
   ]
  },
  {
   "cell_type": "markdown",
   "id": "449e3050",
   "metadata": {
    "papermill": {
     "duration": 0.007911,
     "end_time": "2025-05-04T20:39:56.770115",
     "exception": false,
     "start_time": "2025-05-04T20:39:56.762204",
     "status": "completed"
    },
    "tags": []
   },
   "source": [
    "# Reading the data"
   ]
  },
  {
   "cell_type": "code",
   "execution_count": 3,
   "id": "0bea6c5c",
   "metadata": {
    "execution": {
     "iopub.execute_input": "2025-05-04T20:39:56.791517Z",
     "iopub.status.busy": "2025-05-04T20:39:56.789847Z",
     "iopub.status.idle": "2025-05-04T20:39:57.647271Z",
     "shell.execute_reply": "2025-05-04T20:39:57.645855Z"
    },
    "papermill": {
     "duration": 0.871837,
     "end_time": "2025-05-04T20:39:57.650135",
     "exception": false,
     "start_time": "2025-05-04T20:39:56.778298",
     "status": "completed"
    },
    "tags": []
   },
   "outputs": [
    {
     "name": "stderr",
     "output_type": "stream",
     "text": [
      "/usr/local/lib/python3.11/dist-packages/pandas/io/formats/format.py:1458: RuntimeWarning: invalid value encountered in greater\n",
      "  has_large_values = (abs_vals > 1e6).any()\n",
      "/usr/local/lib/python3.11/dist-packages/pandas/io/formats/format.py:1459: RuntimeWarning: invalid value encountered in less\n",
      "  has_small_values = ((abs_vals < 10 ** (-self.digits)) & (abs_vals > 0)).any()\n",
      "/usr/local/lib/python3.11/dist-packages/pandas/io/formats/format.py:1459: RuntimeWarning: invalid value encountered in greater\n",
      "  has_small_values = ((abs_vals < 10 ** (-self.digits)) & (abs_vals > 0)).any()\n",
      "/usr/local/lib/python3.11/dist-packages/pandas/io/formats/format.py:1458: RuntimeWarning: invalid value encountered in greater\n",
      "  has_large_values = (abs_vals > 1e6).any()\n",
      "/usr/local/lib/python3.11/dist-packages/pandas/io/formats/format.py:1459: RuntimeWarning: invalid value encountered in less\n",
      "  has_small_values = ((abs_vals < 10 ** (-self.digits)) & (abs_vals > 0)).any()\n",
      "/usr/local/lib/python3.11/dist-packages/pandas/io/formats/format.py:1459: RuntimeWarning: invalid value encountered in greater\n",
      "  has_small_values = ((abs_vals < 10 ** (-self.digits)) & (abs_vals > 0)).any()\n"
     ]
    },
    {
     "data": {
      "text/html": [
       "<div>\n",
       "<style scoped>\n",
       "    .dataframe tbody tr th:only-of-type {\n",
       "        vertical-align: middle;\n",
       "    }\n",
       "\n",
       "    .dataframe tbody tr th {\n",
       "        vertical-align: top;\n",
       "    }\n",
       "\n",
       "    .dataframe thead th {\n",
       "        text-align: right;\n",
       "    }\n",
       "</style>\n",
       "<table border=\"1\" class=\"dataframe\">\n",
       "  <thead>\n",
       "    <tr style=\"text-align: right;\">\n",
       "      <th></th>\n",
       "      <th>Date</th>\n",
       "      <th>Location</th>\n",
       "      <th>MinTemp</th>\n",
       "      <th>MaxTemp</th>\n",
       "      <th>Rainfall</th>\n",
       "      <th>Evaporation</th>\n",
       "      <th>Sunshine</th>\n",
       "      <th>WindGustDir</th>\n",
       "      <th>WindGustSpeed</th>\n",
       "      <th>WindDir9am</th>\n",
       "      <th>...</th>\n",
       "      <th>Humidity3pm</th>\n",
       "      <th>Pressure9am</th>\n",
       "      <th>Pressure3pm</th>\n",
       "      <th>Cloud9am</th>\n",
       "      <th>Cloud3pm</th>\n",
       "      <th>Temp9am</th>\n",
       "      <th>Temp3pm</th>\n",
       "      <th>RainToday</th>\n",
       "      <th>RISK_MM</th>\n",
       "      <th>RainTomorrow</th>\n",
       "    </tr>\n",
       "  </thead>\n",
       "  <tbody>\n",
       "    <tr>\n",
       "      <th>0</th>\n",
       "      <td>2008-12-01</td>\n",
       "      <td>Albury</td>\n",
       "      <td>13.4</td>\n",
       "      <td>22.9</td>\n",
       "      <td>0.6</td>\n",
       "      <td>NaN</td>\n",
       "      <td>NaN</td>\n",
       "      <td>W</td>\n",
       "      <td>44.0</td>\n",
       "      <td>W</td>\n",
       "      <td>...</td>\n",
       "      <td>22.0</td>\n",
       "      <td>1007.7</td>\n",
       "      <td>1007.1</td>\n",
       "      <td>8.0</td>\n",
       "      <td>NaN</td>\n",
       "      <td>16.9</td>\n",
       "      <td>21.8</td>\n",
       "      <td>No</td>\n",
       "      <td>0.0</td>\n",
       "      <td>No</td>\n",
       "    </tr>\n",
       "    <tr>\n",
       "      <th>1</th>\n",
       "      <td>2008-12-02</td>\n",
       "      <td>Albury</td>\n",
       "      <td>7.4</td>\n",
       "      <td>25.1</td>\n",
       "      <td>0.0</td>\n",
       "      <td>NaN</td>\n",
       "      <td>NaN</td>\n",
       "      <td>WNW</td>\n",
       "      <td>44.0</td>\n",
       "      <td>NNW</td>\n",
       "      <td>...</td>\n",
       "      <td>25.0</td>\n",
       "      <td>1010.6</td>\n",
       "      <td>1007.8</td>\n",
       "      <td>NaN</td>\n",
       "      <td>NaN</td>\n",
       "      <td>17.2</td>\n",
       "      <td>24.3</td>\n",
       "      <td>No</td>\n",
       "      <td>0.0</td>\n",
       "      <td>No</td>\n",
       "    </tr>\n",
       "    <tr>\n",
       "      <th>2</th>\n",
       "      <td>2008-12-03</td>\n",
       "      <td>Albury</td>\n",
       "      <td>12.9</td>\n",
       "      <td>25.7</td>\n",
       "      <td>0.0</td>\n",
       "      <td>NaN</td>\n",
       "      <td>NaN</td>\n",
       "      <td>WSW</td>\n",
       "      <td>46.0</td>\n",
       "      <td>W</td>\n",
       "      <td>...</td>\n",
       "      <td>30.0</td>\n",
       "      <td>1007.6</td>\n",
       "      <td>1008.7</td>\n",
       "      <td>NaN</td>\n",
       "      <td>2.0</td>\n",
       "      <td>21.0</td>\n",
       "      <td>23.2</td>\n",
       "      <td>No</td>\n",
       "      <td>0.0</td>\n",
       "      <td>No</td>\n",
       "    </tr>\n",
       "    <tr>\n",
       "      <th>3</th>\n",
       "      <td>2008-12-04</td>\n",
       "      <td>Albury</td>\n",
       "      <td>9.2</td>\n",
       "      <td>28.0</td>\n",
       "      <td>0.0</td>\n",
       "      <td>NaN</td>\n",
       "      <td>NaN</td>\n",
       "      <td>NE</td>\n",
       "      <td>24.0</td>\n",
       "      <td>SE</td>\n",
       "      <td>...</td>\n",
       "      <td>16.0</td>\n",
       "      <td>1017.6</td>\n",
       "      <td>1012.8</td>\n",
       "      <td>NaN</td>\n",
       "      <td>NaN</td>\n",
       "      <td>18.1</td>\n",
       "      <td>26.5</td>\n",
       "      <td>No</td>\n",
       "      <td>1.0</td>\n",
       "      <td>No</td>\n",
       "    </tr>\n",
       "    <tr>\n",
       "      <th>4</th>\n",
       "      <td>2008-12-05</td>\n",
       "      <td>Albury</td>\n",
       "      <td>17.5</td>\n",
       "      <td>32.3</td>\n",
       "      <td>1.0</td>\n",
       "      <td>NaN</td>\n",
       "      <td>NaN</td>\n",
       "      <td>W</td>\n",
       "      <td>41.0</td>\n",
       "      <td>ENE</td>\n",
       "      <td>...</td>\n",
       "      <td>33.0</td>\n",
       "      <td>1010.8</td>\n",
       "      <td>1006.0</td>\n",
       "      <td>7.0</td>\n",
       "      <td>8.0</td>\n",
       "      <td>17.8</td>\n",
       "      <td>29.7</td>\n",
       "      <td>No</td>\n",
       "      <td>0.2</td>\n",
       "      <td>No</td>\n",
       "    </tr>\n",
       "  </tbody>\n",
       "</table>\n",
       "<p>5 rows × 24 columns</p>\n",
       "</div>"
      ],
      "text/plain": [
       "         Date Location  MinTemp  MaxTemp  Rainfall  Evaporation  Sunshine  \\\n",
       "0  2008-12-01   Albury     13.4     22.9       0.6          NaN       NaN   \n",
       "1  2008-12-02   Albury      7.4     25.1       0.0          NaN       NaN   \n",
       "2  2008-12-03   Albury     12.9     25.7       0.0          NaN       NaN   \n",
       "3  2008-12-04   Albury      9.2     28.0       0.0          NaN       NaN   \n",
       "4  2008-12-05   Albury     17.5     32.3       1.0          NaN       NaN   \n",
       "\n",
       "  WindGustDir  WindGustSpeed WindDir9am  ... Humidity3pm  Pressure9am  \\\n",
       "0           W           44.0          W  ...        22.0       1007.7   \n",
       "1         WNW           44.0        NNW  ...        25.0       1010.6   \n",
       "2         WSW           46.0          W  ...        30.0       1007.6   \n",
       "3          NE           24.0         SE  ...        16.0       1017.6   \n",
       "4           W           41.0        ENE  ...        33.0       1010.8   \n",
       "\n",
       "   Pressure3pm  Cloud9am  Cloud3pm  Temp9am  Temp3pm  RainToday  RISK_MM  \\\n",
       "0       1007.1       8.0       NaN     16.9     21.8         No      0.0   \n",
       "1       1007.8       NaN       NaN     17.2     24.3         No      0.0   \n",
       "2       1008.7       NaN       2.0     21.0     23.2         No      0.0   \n",
       "3       1012.8       NaN       NaN     18.1     26.5         No      1.0   \n",
       "4       1006.0       7.0       8.0     17.8     29.7         No      0.2   \n",
       "\n",
       "   RainTomorrow  \n",
       "0            No  \n",
       "1            No  \n",
       "2            No  \n",
       "3            No  \n",
       "4            No  \n",
       "\n",
       "[5 rows x 24 columns]"
      ]
     },
     "execution_count": 3,
     "metadata": {},
     "output_type": "execute_result"
    }
   ],
   "source": [
    "df = pd.read_csv('/kaggle/input/weatheraus/weatherAUS.csv')\n",
    "df.head()"
   ]
  },
  {
   "cell_type": "code",
   "execution_count": 4,
   "id": "927422a1",
   "metadata": {
    "execution": {
     "iopub.execute_input": "2025-05-04T20:39:57.676343Z",
     "iopub.status.busy": "2025-05-04T20:39:57.675071Z",
     "iopub.status.idle": "2025-05-04T20:39:57.703277Z",
     "shell.execute_reply": "2025-05-04T20:39:57.701480Z"
    },
    "papermill": {
     "duration": 0.045739,
     "end_time": "2025-05-04T20:39:57.706101",
     "exception": false,
     "start_time": "2025-05-04T20:39:57.660362",
     "status": "completed"
    },
    "tags": []
   },
   "outputs": [
    {
     "data": {
      "text/plain": [
       "RainTomorrow\n",
       "No     110316\n",
       "Yes     31877\n",
       "Name: count, dtype: int64"
      ]
     },
     "execution_count": 4,
     "metadata": {},
     "output_type": "execute_result"
    }
   ],
   "source": [
    "df['RainTomorrow'].value_counts()"
   ]
  },
  {
   "cell_type": "code",
   "execution_count": 5,
   "id": "4550bcfa",
   "metadata": {
    "execution": {
     "iopub.execute_input": "2025-05-04T20:39:57.730683Z",
     "iopub.status.busy": "2025-05-04T20:39:57.730119Z",
     "iopub.status.idle": "2025-05-04T20:39:57.826178Z",
     "shell.execute_reply": "2025-05-04T20:39:57.824608Z"
    },
    "papermill": {
     "duration": 0.113128,
     "end_time": "2025-05-04T20:39:57.828479",
     "exception": false,
     "start_time": "2025-05-04T20:39:57.715351",
     "status": "completed"
    },
    "tags": []
   },
   "outputs": [
    {
     "name": "stdout",
     "output_type": "stream",
     "text": [
      "<class 'pandas.core.frame.DataFrame'>\n",
      "RangeIndex: 142193 entries, 0 to 142192\n",
      "Data columns (total 24 columns):\n",
      " #   Column         Non-Null Count   Dtype  \n",
      "---  ------         --------------   -----  \n",
      " 0   Date           142193 non-null  object \n",
      " 1   Location       142193 non-null  object \n",
      " 2   MinTemp        141556 non-null  float64\n",
      " 3   MaxTemp        141871 non-null  float64\n",
      " 4   Rainfall       140787 non-null  float64\n",
      " 5   Evaporation    81350 non-null   float64\n",
      " 6   Sunshine       74377 non-null   float64\n",
      " 7   WindGustDir    132863 non-null  object \n",
      " 8   WindGustSpeed  132923 non-null  float64\n",
      " 9   WindDir9am     132180 non-null  object \n",
      " 10  WindDir3pm     138415 non-null  object \n",
      " 11  WindSpeed9am   140845 non-null  float64\n",
      " 12  WindSpeed3pm   139563 non-null  float64\n",
      " 13  Humidity9am    140419 non-null  float64\n",
      " 14  Humidity3pm    138583 non-null  float64\n",
      " 15  Pressure9am    128179 non-null  float64\n",
      " 16  Pressure3pm    128212 non-null  float64\n",
      " 17  Cloud9am       88536 non-null   float64\n",
      " 18  Cloud3pm       85099 non-null   float64\n",
      " 19  Temp9am        141289 non-null  float64\n",
      " 20  Temp3pm        139467 non-null  float64\n",
      " 21  RainToday      140787 non-null  object \n",
      " 22  RISK_MM        142193 non-null  float64\n",
      " 23  RainTomorrow   142193 non-null  object \n",
      "dtypes: float64(17), object(7)\n",
      "memory usage: 26.0+ MB\n"
     ]
    }
   ],
   "source": [
    "df.info()"
   ]
  },
  {
   "cell_type": "code",
   "execution_count": 6,
   "id": "22f76521",
   "metadata": {
    "execution": {
     "iopub.execute_input": "2025-05-04T20:39:57.848754Z",
     "iopub.status.busy": "2025-05-04T20:39:57.848103Z",
     "iopub.status.idle": "2025-05-04T20:39:57.855832Z",
     "shell.execute_reply": "2025-05-04T20:39:57.854719Z"
    },
    "papermill": {
     "duration": 0.020602,
     "end_time": "2025-05-04T20:39:57.858267",
     "exception": false,
     "start_time": "2025-05-04T20:39:57.837665",
     "status": "completed"
    },
    "tags": []
   },
   "outputs": [
    {
     "data": {
      "text/plain": [
       "(142193, 24)"
      ]
     },
     "execution_count": 6,
     "metadata": {},
     "output_type": "execute_result"
    }
   ],
   "source": [
    "df.shape"
   ]
  },
  {
   "cell_type": "code",
   "execution_count": 7,
   "id": "c80dae15",
   "metadata": {
    "execution": {
     "iopub.execute_input": "2025-05-04T20:39:57.879066Z",
     "iopub.status.busy": "2025-05-04T20:39:57.878661Z",
     "iopub.status.idle": "2025-05-04T20:39:57.950222Z",
     "shell.execute_reply": "2025-05-04T20:39:57.948890Z"
    },
    "papermill": {
     "duration": 0.084658,
     "end_time": "2025-05-04T20:39:57.952065",
     "exception": false,
     "start_time": "2025-05-04T20:39:57.867407",
     "status": "completed"
    },
    "tags": []
   },
   "outputs": [
    {
     "data": {
      "text/plain": [
       "Sunshine         67816\n",
       "Evaporation      60843\n",
       "Cloud3pm         57094\n",
       "Cloud9am         53657\n",
       "Pressure9am      14014\n",
       "Pressure3pm      13981\n",
       "WindDir9am       10013\n",
       "WindGustDir       9330\n",
       "WindGustSpeed     9270\n",
       "WindDir3pm        3778\n",
       "Humidity3pm       3610\n",
       "Temp3pm           2726\n",
       "WindSpeed3pm      2630\n",
       "Humidity9am       1774\n",
       "RainToday         1406\n",
       "Rainfall          1406\n",
       "WindSpeed9am      1348\n",
       "Temp9am            904\n",
       "MinTemp            637\n",
       "MaxTemp            322\n",
       "RISK_MM              0\n",
       "Date                 0\n",
       "Location             0\n",
       "RainTomorrow         0\n",
       "dtype: int64"
      ]
     },
     "execution_count": 7,
     "metadata": {},
     "output_type": "execute_result"
    }
   ],
   "source": [
    "df.isnull().sum().sort_values(ascending=False)"
   ]
  },
  {
   "cell_type": "code",
   "execution_count": 8,
   "id": "06224a7c",
   "metadata": {
    "execution": {
     "iopub.execute_input": "2025-05-04T20:39:57.972759Z",
     "iopub.status.busy": "2025-05-04T20:39:57.972430Z",
     "iopub.status.idle": "2025-05-04T20:39:57.980021Z",
     "shell.execute_reply": "2025-05-04T20:39:57.978806Z"
    },
    "papermill": {
     "duration": 0.020126,
     "end_time": "2025-05-04T20:39:57.981989",
     "exception": false,
     "start_time": "2025-05-04T20:39:57.961863",
     "status": "completed"
    },
    "tags": []
   },
   "outputs": [
    {
     "data": {
      "text/plain": [
       "Index(['Date', 'Location', 'MinTemp', 'MaxTemp', 'Rainfall', 'Evaporation',\n",
       "       'Sunshine', 'WindGustDir', 'WindGustSpeed', 'WindDir9am', 'WindDir3pm',\n",
       "       'WindSpeed9am', 'WindSpeed3pm', 'Humidity9am', 'Humidity3pm',\n",
       "       'Pressure9am', 'Pressure3pm', 'Cloud9am', 'Cloud3pm', 'Temp9am',\n",
       "       'Temp3pm', 'RainToday', 'RISK_MM', 'RainTomorrow'],\n",
       "      dtype='object')"
      ]
     },
     "execution_count": 8,
     "metadata": {},
     "output_type": "execute_result"
    }
   ],
   "source": [
    "df.columns"
   ]
  },
  {
   "cell_type": "code",
   "execution_count": 9,
   "id": "4801e74a",
   "metadata": {
    "execution": {
     "iopub.execute_input": "2025-05-04T20:39:58.005244Z",
     "iopub.status.busy": "2025-05-04T20:39:58.004928Z",
     "iopub.status.idle": "2025-05-04T20:39:58.019987Z",
     "shell.execute_reply": "2025-05-04T20:39:58.018955Z"
    },
    "papermill": {
     "duration": 0.028113,
     "end_time": "2025-05-04T20:39:58.022140",
     "exception": false,
     "start_time": "2025-05-04T20:39:57.994027",
     "status": "completed"
    },
    "tags": []
   },
   "outputs": [],
   "source": [
    "df = df.drop(columns=['Sunshine', 'Evaporation', 'Cloud3pm', 'Cloud9am'])"
   ]
  },
  {
   "cell_type": "code",
   "execution_count": 10,
   "id": "0446bdb9",
   "metadata": {
    "execution": {
     "iopub.execute_input": "2025-05-04T20:39:58.042440Z",
     "iopub.status.busy": "2025-05-04T20:39:58.042075Z",
     "iopub.status.idle": "2025-05-04T20:39:58.048302Z",
     "shell.execute_reply": "2025-05-04T20:39:58.047385Z"
    },
    "papermill": {
     "duration": 0.018865,
     "end_time": "2025-05-04T20:39:58.049964",
     "exception": false,
     "start_time": "2025-05-04T20:39:58.031099",
     "status": "completed"
    },
    "tags": []
   },
   "outputs": [
    {
     "data": {
      "text/plain": [
       "(142193, 20)"
      ]
     },
     "execution_count": 10,
     "metadata": {},
     "output_type": "execute_result"
    }
   ],
   "source": [
    "df.shape"
   ]
  },
  {
   "cell_type": "code",
   "execution_count": 11,
   "id": "84c3a7a7",
   "metadata": {
    "execution": {
     "iopub.execute_input": "2025-05-04T20:39:58.070121Z",
     "iopub.status.busy": "2025-05-04T20:39:58.069747Z",
     "iopub.status.idle": "2025-05-04T20:39:58.137895Z",
     "shell.execute_reply": "2025-05-04T20:39:58.136845Z"
    },
    "papermill": {
     "duration": 0.079593,
     "end_time": "2025-05-04T20:39:58.139458",
     "exception": false,
     "start_time": "2025-05-04T20:39:58.059865",
     "status": "completed"
    },
    "tags": []
   },
   "outputs": [
    {
     "data": {
      "text/plain": [
       "Pressure9am      14014\n",
       "Pressure3pm      13981\n",
       "WindDir9am       10013\n",
       "WindGustDir       9330\n",
       "WindGustSpeed     9270\n",
       "WindDir3pm        3778\n",
       "Humidity3pm       3610\n",
       "Temp3pm           2726\n",
       "WindSpeed3pm      2630\n",
       "Humidity9am       1774\n",
       "RainToday         1406\n",
       "Rainfall          1406\n",
       "WindSpeed9am      1348\n",
       "Temp9am            904\n",
       "MinTemp            637\n",
       "MaxTemp            322\n",
       "RISK_MM              0\n",
       "Date                 0\n",
       "Location             0\n",
       "RainTomorrow         0\n",
       "dtype: int64"
      ]
     },
     "execution_count": 11,
     "metadata": {},
     "output_type": "execute_result"
    }
   ],
   "source": [
    "df.isnull().sum().sort_values(ascending=False)"
   ]
  },
  {
   "cell_type": "markdown",
   "id": "97d5deeb",
   "metadata": {
    "papermill": {
     "duration": 0.009894,
     "end_time": "2025-05-04T20:39:58.159125",
     "exception": false,
     "start_time": "2025-05-04T20:39:58.149231",
     "status": "completed"
    },
    "tags": []
   },
   "source": [
    "# Feature engineering on date column"
   ]
  },
  {
   "cell_type": "code",
   "execution_count": 12,
   "id": "7ccc7220",
   "metadata": {
    "execution": {
     "iopub.execute_input": "2025-05-04T20:39:58.178340Z",
     "iopub.status.busy": "2025-05-04T20:39:58.177974Z",
     "iopub.status.idle": "2025-05-04T20:39:58.240852Z",
     "shell.execute_reply": "2025-05-04T20:39:58.239583Z"
    },
    "papermill": {
     "duration": 0.075074,
     "end_time": "2025-05-04T20:39:58.243112",
     "exception": false,
     "start_time": "2025-05-04T20:39:58.168038",
     "status": "completed"
    },
    "tags": []
   },
   "outputs": [],
   "source": [
    "# Ensure the date column is in datetime format\n",
    "df['Date'] = pd.to_datetime(df['Date'])\n",
    "\n",
    "# Create new columns for year, month, and day\n",
    "df['Year'] = df['Date'].dt.year\n",
    "df['Month'] = df['Date'].dt.month\n",
    "df['Day'] = df['Date'].dt.day\n",
    "\n",
    "# Dropping the Date column\n",
    "df = df.drop(columns=['Date'])"
   ]
  },
  {
   "cell_type": "code",
   "execution_count": 13,
   "id": "4ab80387",
   "metadata": {
    "execution": {
     "iopub.execute_input": "2025-05-04T20:39:58.263092Z",
     "iopub.status.busy": "2025-05-04T20:39:58.262728Z",
     "iopub.status.idle": "2025-05-04T20:39:58.290358Z",
     "shell.execute_reply": "2025-05-04T20:39:58.289099Z"
    },
    "papermill": {
     "duration": 0.040433,
     "end_time": "2025-05-04T20:39:58.292663",
     "exception": false,
     "start_time": "2025-05-04T20:39:58.252230",
     "status": "completed"
    },
    "tags": []
   },
   "outputs": [
    {
     "data": {
      "text/html": [
       "<div>\n",
       "<style scoped>\n",
       "    .dataframe tbody tr th:only-of-type {\n",
       "        vertical-align: middle;\n",
       "    }\n",
       "\n",
       "    .dataframe tbody tr th {\n",
       "        vertical-align: top;\n",
       "    }\n",
       "\n",
       "    .dataframe thead th {\n",
       "        text-align: right;\n",
       "    }\n",
       "</style>\n",
       "<table border=\"1\" class=\"dataframe\">\n",
       "  <thead>\n",
       "    <tr style=\"text-align: right;\">\n",
       "      <th></th>\n",
       "      <th>Location</th>\n",
       "      <th>MinTemp</th>\n",
       "      <th>MaxTemp</th>\n",
       "      <th>Rainfall</th>\n",
       "      <th>WindGustDir</th>\n",
       "      <th>WindGustSpeed</th>\n",
       "      <th>WindDir9am</th>\n",
       "      <th>WindDir3pm</th>\n",
       "      <th>WindSpeed9am</th>\n",
       "      <th>WindSpeed3pm</th>\n",
       "      <th>...</th>\n",
       "      <th>Pressure9am</th>\n",
       "      <th>Pressure3pm</th>\n",
       "      <th>Temp9am</th>\n",
       "      <th>Temp3pm</th>\n",
       "      <th>RainToday</th>\n",
       "      <th>RISK_MM</th>\n",
       "      <th>RainTomorrow</th>\n",
       "      <th>Year</th>\n",
       "      <th>Month</th>\n",
       "      <th>Day</th>\n",
       "    </tr>\n",
       "  </thead>\n",
       "  <tbody>\n",
       "    <tr>\n",
       "      <th>0</th>\n",
       "      <td>Albury</td>\n",
       "      <td>13.4</td>\n",
       "      <td>22.9</td>\n",
       "      <td>0.6</td>\n",
       "      <td>W</td>\n",
       "      <td>44.0</td>\n",
       "      <td>W</td>\n",
       "      <td>WNW</td>\n",
       "      <td>20.0</td>\n",
       "      <td>24.0</td>\n",
       "      <td>...</td>\n",
       "      <td>1007.7</td>\n",
       "      <td>1007.1</td>\n",
       "      <td>16.9</td>\n",
       "      <td>21.8</td>\n",
       "      <td>No</td>\n",
       "      <td>0.0</td>\n",
       "      <td>No</td>\n",
       "      <td>2008</td>\n",
       "      <td>12</td>\n",
       "      <td>1</td>\n",
       "    </tr>\n",
       "    <tr>\n",
       "      <th>1</th>\n",
       "      <td>Albury</td>\n",
       "      <td>7.4</td>\n",
       "      <td>25.1</td>\n",
       "      <td>0.0</td>\n",
       "      <td>WNW</td>\n",
       "      <td>44.0</td>\n",
       "      <td>NNW</td>\n",
       "      <td>WSW</td>\n",
       "      <td>4.0</td>\n",
       "      <td>22.0</td>\n",
       "      <td>...</td>\n",
       "      <td>1010.6</td>\n",
       "      <td>1007.8</td>\n",
       "      <td>17.2</td>\n",
       "      <td>24.3</td>\n",
       "      <td>No</td>\n",
       "      <td>0.0</td>\n",
       "      <td>No</td>\n",
       "      <td>2008</td>\n",
       "      <td>12</td>\n",
       "      <td>2</td>\n",
       "    </tr>\n",
       "    <tr>\n",
       "      <th>2</th>\n",
       "      <td>Albury</td>\n",
       "      <td>12.9</td>\n",
       "      <td>25.7</td>\n",
       "      <td>0.0</td>\n",
       "      <td>WSW</td>\n",
       "      <td>46.0</td>\n",
       "      <td>W</td>\n",
       "      <td>WSW</td>\n",
       "      <td>19.0</td>\n",
       "      <td>26.0</td>\n",
       "      <td>...</td>\n",
       "      <td>1007.6</td>\n",
       "      <td>1008.7</td>\n",
       "      <td>21.0</td>\n",
       "      <td>23.2</td>\n",
       "      <td>No</td>\n",
       "      <td>0.0</td>\n",
       "      <td>No</td>\n",
       "      <td>2008</td>\n",
       "      <td>12</td>\n",
       "      <td>3</td>\n",
       "    </tr>\n",
       "    <tr>\n",
       "      <th>3</th>\n",
       "      <td>Albury</td>\n",
       "      <td>9.2</td>\n",
       "      <td>28.0</td>\n",
       "      <td>0.0</td>\n",
       "      <td>NE</td>\n",
       "      <td>24.0</td>\n",
       "      <td>SE</td>\n",
       "      <td>E</td>\n",
       "      <td>11.0</td>\n",
       "      <td>9.0</td>\n",
       "      <td>...</td>\n",
       "      <td>1017.6</td>\n",
       "      <td>1012.8</td>\n",
       "      <td>18.1</td>\n",
       "      <td>26.5</td>\n",
       "      <td>No</td>\n",
       "      <td>1.0</td>\n",
       "      <td>No</td>\n",
       "      <td>2008</td>\n",
       "      <td>12</td>\n",
       "      <td>4</td>\n",
       "    </tr>\n",
       "    <tr>\n",
       "      <th>4</th>\n",
       "      <td>Albury</td>\n",
       "      <td>17.5</td>\n",
       "      <td>32.3</td>\n",
       "      <td>1.0</td>\n",
       "      <td>W</td>\n",
       "      <td>41.0</td>\n",
       "      <td>ENE</td>\n",
       "      <td>NW</td>\n",
       "      <td>7.0</td>\n",
       "      <td>20.0</td>\n",
       "      <td>...</td>\n",
       "      <td>1010.8</td>\n",
       "      <td>1006.0</td>\n",
       "      <td>17.8</td>\n",
       "      <td>29.7</td>\n",
       "      <td>No</td>\n",
       "      <td>0.2</td>\n",
       "      <td>No</td>\n",
       "      <td>2008</td>\n",
       "      <td>12</td>\n",
       "      <td>5</td>\n",
       "    </tr>\n",
       "  </tbody>\n",
       "</table>\n",
       "<p>5 rows × 22 columns</p>\n",
       "</div>"
      ],
      "text/plain": [
       "  Location  MinTemp  MaxTemp  Rainfall WindGustDir  WindGustSpeed WindDir9am  \\\n",
       "0   Albury     13.4     22.9       0.6           W           44.0          W   \n",
       "1   Albury      7.4     25.1       0.0         WNW           44.0        NNW   \n",
       "2   Albury     12.9     25.7       0.0         WSW           46.0          W   \n",
       "3   Albury      9.2     28.0       0.0          NE           24.0         SE   \n",
       "4   Albury     17.5     32.3       1.0           W           41.0        ENE   \n",
       "\n",
       "  WindDir3pm  WindSpeed9am  WindSpeed3pm  ...  Pressure9am  Pressure3pm  \\\n",
       "0        WNW          20.0          24.0  ...       1007.7       1007.1   \n",
       "1        WSW           4.0          22.0  ...       1010.6       1007.8   \n",
       "2        WSW          19.0          26.0  ...       1007.6       1008.7   \n",
       "3          E          11.0           9.0  ...       1017.6       1012.8   \n",
       "4         NW           7.0          20.0  ...       1010.8       1006.0   \n",
       "\n",
       "   Temp9am  Temp3pm  RainToday  RISK_MM RainTomorrow  Year Month  Day  \n",
       "0     16.9     21.8         No      0.0           No  2008    12    1  \n",
       "1     17.2     24.3         No      0.0           No  2008    12    2  \n",
       "2     21.0     23.2         No      0.0           No  2008    12    3  \n",
       "3     18.1     26.5         No      1.0           No  2008    12    4  \n",
       "4     17.8     29.7         No      0.2           No  2008    12    5  \n",
       "\n",
       "[5 rows x 22 columns]"
      ]
     },
     "execution_count": 13,
     "metadata": {},
     "output_type": "execute_result"
    }
   ],
   "source": [
    "df.head()"
   ]
  },
  {
   "cell_type": "code",
   "execution_count": 14,
   "id": "d564b52a",
   "metadata": {
    "execution": {
     "iopub.execute_input": "2025-05-04T20:39:58.315569Z",
     "iopub.status.busy": "2025-05-04T20:39:58.315038Z",
     "iopub.status.idle": "2025-05-04T20:39:58.320891Z",
     "shell.execute_reply": "2025-05-04T20:39:58.319982Z"
    },
    "papermill": {
     "duration": 0.018256,
     "end_time": "2025-05-04T20:39:58.322421",
     "exception": false,
     "start_time": "2025-05-04T20:39:58.304165",
     "status": "completed"
    },
    "tags": []
   },
   "outputs": [
    {
     "data": {
      "text/plain": [
       "(142193, 22)"
      ]
     },
     "execution_count": 14,
     "metadata": {},
     "output_type": "execute_result"
    }
   ],
   "source": [
    "df.shape"
   ]
  },
  {
   "cell_type": "markdown",
   "id": "cd2b7483",
   "metadata": {
    "papermill": {
     "duration": 0.080876,
     "end_time": "2025-05-04T20:39:58.412604",
     "exception": false,
     "start_time": "2025-05-04T20:39:58.331728",
     "status": "completed"
    },
    "tags": []
   },
   "source": [
    "# Filling the null values"
   ]
  },
  {
   "cell_type": "code",
   "execution_count": 15,
   "id": "78ae6a68",
   "metadata": {
    "execution": {
     "iopub.execute_input": "2025-05-04T20:39:58.442456Z",
     "iopub.status.busy": "2025-05-04T20:39:58.442093Z",
     "iopub.status.idle": "2025-05-04T20:39:58.593221Z",
     "shell.execute_reply": "2025-05-04T20:39:58.591648Z"
    },
    "papermill": {
     "duration": 0.168996,
     "end_time": "2025-05-04T20:39:58.595509",
     "exception": false,
     "start_time": "2025-05-04T20:39:58.426513",
     "status": "completed"
    },
    "tags": []
   },
   "outputs": [],
   "source": [
    "# Select only numeric columns\n",
    "numeric_cols = df.select_dtypes(include=[np.number]).columns\n",
    "\n",
    "# Create the imputer\n",
    "imputer = SimpleImputer(missing_values=np.nan, strategy='mean')#'median', 'mean', 'constant', 'most_frequent'\n",
    "\n",
    "# Loop through each numeric column and apply the imputer\n",
    "for col in numeric_cols:\n",
    "    df[col] = imputer.fit_transform(df[[col]])"
   ]
  },
  {
   "cell_type": "code",
   "execution_count": 16,
   "id": "cfda0eeb",
   "metadata": {
    "execution": {
     "iopub.execute_input": "2025-05-04T20:39:58.617751Z",
     "iopub.status.busy": "2025-05-04T20:39:58.617233Z",
     "iopub.status.idle": "2025-05-04T20:39:58.786298Z",
     "shell.execute_reply": "2025-05-04T20:39:58.785094Z"
    },
    "papermill": {
     "duration": 0.182219,
     "end_time": "2025-05-04T20:39:58.788361",
     "exception": false,
     "start_time": "2025-05-04T20:39:58.606142",
     "status": "completed"
    },
    "tags": []
   },
   "outputs": [],
   "source": [
    "# Select string (object or category) columns\n",
    "string_cols = df.select_dtypes(include=['object', 'category']).columns\n",
    "\n",
    "# Create the imputer (fill missing strings with the most frequent value)\n",
    "imputer = SimpleImputer(strategy='most_frequent')  # or strategy='constant', fill_value='Unknown'\n",
    "\n",
    "# Loop through each string column and apply the imputer\n",
    "for col in string_cols:\n",
    "    df[col] = imputer.fit_transform(df[[col]]).ravel()"
   ]
  },
  {
   "cell_type": "code",
   "execution_count": 17,
   "id": "9a7106d1",
   "metadata": {
    "execution": {
     "iopub.execute_input": "2025-05-04T20:39:58.809914Z",
     "iopub.status.busy": "2025-05-04T20:39:58.809613Z",
     "iopub.status.idle": "2025-05-04T20:39:58.871905Z",
     "shell.execute_reply": "2025-05-04T20:39:58.870902Z"
    },
    "papermill": {
     "duration": 0.074915,
     "end_time": "2025-05-04T20:39:58.873569",
     "exception": false,
     "start_time": "2025-05-04T20:39:58.798654",
     "status": "completed"
    },
    "tags": []
   },
   "outputs": [
    {
     "data": {
      "text/plain": [
       "Location         0\n",
       "MinTemp          0\n",
       "Month            0\n",
       "Year             0\n",
       "RainTomorrow     0\n",
       "RISK_MM          0\n",
       "RainToday        0\n",
       "Temp3pm          0\n",
       "Temp9am          0\n",
       "Pressure3pm      0\n",
       "Pressure9am      0\n",
       "Humidity3pm      0\n",
       "Humidity9am      0\n",
       "WindSpeed3pm     0\n",
       "WindSpeed9am     0\n",
       "WindDir3pm       0\n",
       "WindDir9am       0\n",
       "WindGustSpeed    0\n",
       "WindGustDir      0\n",
       "Rainfall         0\n",
       "MaxTemp          0\n",
       "Day              0\n",
       "dtype: int64"
      ]
     },
     "execution_count": 17,
     "metadata": {},
     "output_type": "execute_result"
    }
   ],
   "source": [
    "df.isnull().sum().sort_values(ascending=False)"
   ]
  },
  {
   "cell_type": "code",
   "execution_count": 18,
   "id": "ad50f7e0",
   "metadata": {
    "execution": {
     "iopub.execute_input": "2025-05-04T20:39:58.895310Z",
     "iopub.status.busy": "2025-05-04T20:39:58.894943Z",
     "iopub.status.idle": "2025-05-04T20:39:59.054146Z",
     "shell.execute_reply": "2025-05-04T20:39:59.053027Z"
    },
    "papermill": {
     "duration": 0.172732,
     "end_time": "2025-05-04T20:39:59.055910",
     "exception": false,
     "start_time": "2025-05-04T20:39:58.883178",
     "status": "completed"
    },
    "tags": []
   },
   "outputs": [
    {
     "data": {
      "text/plain": [
       "0"
      ]
     },
     "execution_count": 18,
     "metadata": {},
     "output_type": "execute_result"
    }
   ],
   "source": [
    "df.duplicated().sum()"
   ]
  },
  {
   "cell_type": "code",
   "execution_count": 19,
   "id": "133d4a31",
   "metadata": {
    "execution": {
     "iopub.execute_input": "2025-05-04T20:39:59.078555Z",
     "iopub.status.busy": "2025-05-04T20:39:59.078221Z",
     "iopub.status.idle": "2025-05-04T20:39:59.097518Z",
     "shell.execute_reply": "2025-05-04T20:39:59.096106Z"
    },
    "papermill": {
     "duration": 0.032665,
     "end_time": "2025-05-04T20:39:59.099339",
     "exception": false,
     "start_time": "2025-05-04T20:39:59.066674",
     "status": "completed"
    },
    "tags": []
   },
   "outputs": [
    {
     "data": {
      "text/plain": [
       "RainTomorrow\n",
       "No     110316\n",
       "Yes     31877\n",
       "Name: count, dtype: int64"
      ]
     },
     "execution_count": 19,
     "metadata": {},
     "output_type": "execute_result"
    }
   ],
   "source": [
    "df['RainTomorrow'].value_counts()"
   ]
  },
  {
   "cell_type": "markdown",
   "id": "47186384",
   "metadata": {
    "papermill": {
     "duration": 0.010747,
     "end_time": "2025-05-04T20:39:59.120576",
     "exception": false,
     "start_time": "2025-05-04T20:39:59.109829",
     "status": "completed"
    },
    "tags": []
   },
   "source": [
    "# Removing outliers"
   ]
  },
  {
   "cell_type": "code",
   "execution_count": 20,
   "id": "a67c1b23",
   "metadata": {
    "execution": {
     "iopub.execute_input": "2025-05-04T20:39:59.143150Z",
     "iopub.status.busy": "2025-05-04T20:39:59.142780Z",
     "iopub.status.idle": "2025-05-04T20:40:01.871684Z",
     "shell.execute_reply": "2025-05-04T20:40:01.870356Z"
    },
    "papermill": {
     "duration": 2.744487,
     "end_time": "2025-05-04T20:40:01.875472",
     "exception": false,
     "start_time": "2025-05-04T20:39:59.130985",
     "status": "completed"
    },
    "tags": []
   },
   "outputs": [
    {
     "data": {
      "image/png": "[encoded data removed]",
      "text/plain": [
       "<Figure size 1500x2400 with 18 Axes>"
      ]
     },
     "metadata": {},
     "output_type": "display_data"
    }
   ],
   "source": [
    "# Set grid size based on number of numeric columns\n",
    "n_cols = 3  # e.g., 3 plots per row\n",
    "n_rows = int(np.ceil(len(numeric_cols) / n_cols))\n",
    "\n",
    "fig, axes = plt.subplots(n_rows, n_cols, figsize=(5 * n_cols, 4 * n_rows))\n",
    "axes = axes.flatten()  # Flatten to easily index\n",
    "\n",
    "# Create boxplots\n",
    "for i, col in enumerate(numeric_cols):\n",
    "    sns.boxplot(x=df[col], ax=axes[i])\n",
    "    axes[i].set_title(f'{col} Box Plot')"
   ]
  },
  {
   "cell_type": "code",
   "execution_count": 21,
   "id": "5544c505",
   "metadata": {
    "execution": {
     "iopub.execute_input": "2025-05-04T20:40:01.906410Z",
     "iopub.status.busy": "2025-05-04T20:40:01.906079Z",
     "iopub.status.idle": "2025-05-04T20:40:02.115873Z",
     "shell.execute_reply": "2025-05-04T20:40:02.114045Z"
    },
    "papermill": {
     "duration": 0.228788,
     "end_time": "2025-05-04T20:40:02.118255",
     "exception": false,
     "start_time": "2025-05-04T20:40:01.889467",
     "status": "completed"
    },
    "tags": []
   },
   "outputs": [
    {
     "name": "stdout",
     "output_type": "stream",
     "text": [
      "Before: RainTomorrow\n",
      "No     110316\n",
      "Yes     31877\n",
      "Name: count, dtype: int64\n",
      "After: RainTomorrow\n",
      "No     100354\n",
      "Yes      8018\n",
      "Name: count, dtype: int64\n"
     ]
    }
   ],
   "source": [
    "target_col = 'RainTomorrow'\n",
    "numeric_cols = [col for col in df.select_dtypes(include=[np.number]).columns if col != target_col]\n",
    "\n",
    "# Create a mask to keep track of outliers\n",
    "mask = pd.Series(True, index=df.index)\n",
    "\n",
    "for col in numeric_cols:\n",
    "    q1 = df[col].quantile(0.25)\n",
    "    q3 = df[col].quantile(0.75)\n",
    "    iqr = q3 - q1\n",
    "    lower_bound = q1 - 3.0 * iqr\n",
    "    upper_bound = q3 + 3.0 * iqr\n",
    "\n",
    "    mask &= (df[col] >= lower_bound) & (df[col] <= upper_bound)\n",
    "\n",
    "# Instead of applying it directly, check how many 'Yes' values remain\n",
    "print(\"Before:\", df[target_col].value_counts())\n",
    "\n",
    "# Apply mask only if it doesn't destroy your 'Yes' values\n",
    "filtered_df = df[mask]\n",
    "\n",
    "print(\"After:\", filtered_df[target_col].value_counts())"
   ]
  },
  {
   "cell_type": "markdown",
   "id": "f2ea942c",
   "metadata": {
    "papermill": {
     "duration": 0.015227,
     "end_time": "2025-05-04T20:40:02.147753",
     "exception": false,
     "start_time": "2025-05-04T20:40:02.132526",
     "status": "completed"
    },
    "tags": []
   },
   "source": [
    "target_col = 'RainTomorrow'  # Replace with your actual target column name\n",
    "\n",
    "for col in numeric_cols:\n",
    "    if col == target_col:\n",
    "        continue  # Skip the target column\n",
    "    \n",
    "    q1 = df[col].quantile(0.25)\n",
    "    q3 = df[col].quantile(0.75)\n",
    "    iqr = q3 - q1\n",
    "    lower_bound = q1 - 3.0 * iqr\n",
    "    upper_bound = q3 + 3.0 * iqr\n",
    "\n",
    "    df = df[(df[col] >= lower_bound) & (df[col] <= upper_bound)]"
   ]
  },
  {
   "cell_type": "code",
   "execution_count": 22,
   "id": "a28648b1",
   "metadata": {
    "execution": {
     "iopub.execute_input": "2025-05-04T20:40:02.186380Z",
     "iopub.status.busy": "2025-05-04T20:40:02.185986Z",
     "iopub.status.idle": "2025-05-04T20:40:04.802775Z",
     "shell.execute_reply": "2025-05-04T20:40:04.801554Z"
    },
    "papermill": {
     "duration": 2.641713,
     "end_time": "2025-05-04T20:40:04.805527",
     "exception": false,
     "start_time": "2025-05-04T20:40:02.163814",
     "status": "completed"
    },
    "tags": []
   },
   "outputs": [
    {
     "data": {
      "image/png": "[encoded data removed]",
      "text/plain": [
       "<Figure size 1500x2400 with 18 Axes>"
      ]
     },
     "metadata": {},
     "output_type": "display_data"
    }
   ],
   "source": [
    "fig, axes = plt.subplots(n_rows, n_cols, figsize=(5 * n_cols, 4 * n_rows))\n",
    "axes = axes.flatten()  # Flatten to easily index\n",
    "\n",
    "# Create boxplots\n",
    "for i, col in enumerate(numeric_cols):\n",
    "    sns.boxplot(x=df[col], ax=axes[i])\n",
    "    axes[i].set_title(f'{col} Box Plot')"
   ]
  },
  {
   "cell_type": "code",
   "execution_count": 23,
   "id": "71744a7f",
   "metadata": {
    "execution": {
     "iopub.execute_input": "2025-05-04T20:40:04.837440Z",
     "iopub.status.busy": "2025-05-04T20:40:04.836070Z",
     "iopub.status.idle": "2025-05-04T20:40:04.842973Z",
     "shell.execute_reply": "2025-05-04T20:40:04.842066Z"
    },
    "papermill": {
     "duration": 0.023808,
     "end_time": "2025-05-04T20:40:04.844825",
     "exception": false,
     "start_time": "2025-05-04T20:40:04.821017",
     "status": "completed"
    },
    "tags": []
   },
   "outputs": [
    {
     "data": {
      "text/plain": [
       "(142193, 22)"
      ]
     },
     "execution_count": 23,
     "metadata": {},
     "output_type": "execute_result"
    }
   ],
   "source": [
    "df.shape"
   ]
  },
  {
   "cell_type": "code",
   "execution_count": 24,
   "id": "9b839d5d",
   "metadata": {
    "execution": {
     "iopub.execute_input": "2025-05-04T20:40:04.875276Z",
     "iopub.status.busy": "2025-05-04T20:40:04.874948Z",
     "iopub.status.idle": "2025-05-04T20:40:04.894477Z",
     "shell.execute_reply": "2025-05-04T20:40:04.893308Z"
    },
    "papermill": {
     "duration": 0.036993,
     "end_time": "2025-05-04T20:40:04.896547",
     "exception": false,
     "start_time": "2025-05-04T20:40:04.859554",
     "status": "completed"
    },
    "tags": []
   },
   "outputs": [
    {
     "data": {
      "text/plain": [
       "RainTomorrow\n",
       "No     110316\n",
       "Yes     31877\n",
       "Name: count, dtype: int64"
      ]
     },
     "execution_count": 24,
     "metadata": {},
     "output_type": "execute_result"
    }
   ],
   "source": [
    "df['RainTomorrow'].value_counts()"
   ]
  },
  {
   "cell_type": "markdown",
   "id": "b0b1ae87",
   "metadata": {
    "papermill": {
     "duration": 0.015056,
     "end_time": "2025-05-04T20:40:04.925828",
     "exception": false,
     "start_time": "2025-05-04T20:40:04.910772",
     "status": "completed"
    },
    "tags": []
   },
   "source": [
    "# Important Note"
   ]
  },
  {
   "cell_type": "markdown",
   "id": "d2aca1cf",
   "metadata": {
    "papermill": {
     "duration": 0.014518,
     "end_time": "2025-05-04T20:40:04.954938",
     "exception": false,
     "start_time": "2025-05-04T20:40:04.940420",
     "status": "completed"
    },
    "tags": []
   },
   "source": [
    "**As we see the shape of the dataset before and after removing the outliers are equaled**\n",
    "**And thats because all the outliers are from class 'Yes' in target column**"
   ]
  },
  {
   "cell_type": "markdown",
   "id": "7bd2e2b4",
   "metadata": {
    "papermill": {
     "duration": 0.015827,
     "end_time": "2025-05-04T20:40:04.986498",
     "exception": false,
     "start_time": "2025-05-04T20:40:04.970671",
     "status": "completed"
    },
    "tags": []
   },
   "source": [
    "# Encoding"
   ]
  },
  {
   "cell_type": "code",
   "execution_count": 25,
   "id": "a1eebaa6",
   "metadata": {
    "execution": {
     "iopub.execute_input": "2025-05-04T20:40:05.019186Z",
     "iopub.status.busy": "2025-05-04T20:40:05.018788Z",
     "iopub.status.idle": "2025-05-04T20:40:05.039979Z",
     "shell.execute_reply": "2025-05-04T20:40:05.038845Z"
    },
    "papermill": {
     "duration": 0.038705,
     "end_time": "2025-05-04T20:40:05.041792",
     "exception": false,
     "start_time": "2025-05-04T20:40:05.003087",
     "status": "completed"
    },
    "tags": []
   },
   "outputs": [
    {
     "data": {
      "text/plain": [
       "RainTomorrow\n",
       "No     110316\n",
       "Yes     31877\n",
       "Name: count, dtype: int64"
      ]
     },
     "execution_count": 25,
     "metadata": {},
     "output_type": "execute_result"
    }
   ],
   "source": [
    "df['RainTomorrow'].value_counts()"
   ]
  },
  {
   "cell_type": "code",
   "execution_count": 26,
   "id": "06ed4737",
   "metadata": {
    "execution": {
     "iopub.execute_input": "2025-05-04T20:40:05.076564Z",
     "iopub.status.busy": "2025-05-04T20:40:05.076118Z",
     "iopub.status.idle": "2025-05-04T20:40:05.258413Z",
     "shell.execute_reply": "2025-05-04T20:40:05.257126Z"
    },
    "papermill": {
     "duration": 0.20279,
     "end_time": "2025-05-04T20:40:05.261628",
     "exception": false,
     "start_time": "2025-05-04T20:40:05.058838",
     "status": "completed"
    },
    "tags": []
   },
   "outputs": [
    {
     "data": {
      "text/plain": [
       "['RainTomorrow.joblib']"
      ]
     },
     "execution_count": 26,
     "metadata": {},
     "output_type": "execute_result"
    }
   ],
   "source": [
    "lb=LabelEncoder()\n",
    "df['Location'] = lb.fit_transform(df['Location'])\n",
    "joblib.dump(lb,'Location.joblib')\n",
    "\n",
    "\n",
    "lb=LabelEncoder()\n",
    "df['WindGustDir'] = lb.fit_transform(df['WindGustDir'])\n",
    "joblib.dump(lb,'WindGustDir.joblib')\n",
    "\n",
    "lb=LabelEncoder()\n",
    "df['WindDir9am'] = lb.fit_transform(df['WindDir9am'])\n",
    "joblib.dump(lb,'WindDir9am.joblib')\n",
    "\n",
    "lb=LabelEncoder()\n",
    "df['WindDir3pm'] = lb.fit_transform(df['WindDir3pm'])\n",
    "joblib.dump(lb,'WindDir3pm.joblib')\n",
    "\n",
    "lb=LabelEncoder()\n",
    "df['RainToday'] = lb.fit_transform(df['RainToday'])\n",
    "joblib.dump(lb,'RainToday.joblib')\n",
    "\n",
    "lb=LabelEncoder()\n",
    "df['RainTomorrow'] = lb.fit_transform(df['RainTomorrow'])\n",
    "joblib.dump(lb,'RainTomorrow.joblib')"
   ]
  },
  {
   "cell_type": "code",
   "execution_count": 27,
   "id": "13b0da1b",
   "metadata": {
    "execution": {
     "iopub.execute_input": "2025-05-04T20:40:05.307664Z",
     "iopub.status.busy": "2025-05-04T20:40:05.307318Z",
     "iopub.status.idle": "2025-05-04T20:40:05.339894Z",
     "shell.execute_reply": "2025-05-04T20:40:05.338073Z"
    },
    "papermill": {
     "duration": 0.053783,
     "end_time": "2025-05-04T20:40:05.341921",
     "exception": false,
     "start_time": "2025-05-04T20:40:05.288138",
     "status": "completed"
    },
    "tags": []
   },
   "outputs": [
    {
     "data": {
      "text/html": [
       "<div>\n",
       "<style scoped>\n",
       "    .dataframe tbody tr th:only-of-type {\n",
       "        vertical-align: middle;\n",
       "    }\n",
       "\n",
       "    .dataframe tbody tr th {\n",
       "        vertical-align: top;\n",
       "    }\n",
       "\n",
       "    .dataframe thead th {\n",
       "        text-align: right;\n",
       "    }\n",
       "</style>\n",
       "<table border=\"1\" class=\"dataframe\">\n",
       "  <thead>\n",
       "    <tr style=\"text-align: right;\">\n",
       "      <th></th>\n",
       "      <th>Location</th>\n",
       "      <th>MinTemp</th>\n",
       "      <th>MaxTemp</th>\n",
       "      <th>Rainfall</th>\n",
       "      <th>WindGustDir</th>\n",
       "      <th>WindGustSpeed</th>\n",
       "      <th>WindDir9am</th>\n",
       "      <th>WindDir3pm</th>\n",
       "      <th>WindSpeed9am</th>\n",
       "      <th>WindSpeed3pm</th>\n",
       "      <th>...</th>\n",
       "      <th>Pressure9am</th>\n",
       "      <th>Pressure3pm</th>\n",
       "      <th>Temp9am</th>\n",
       "      <th>Temp3pm</th>\n",
       "      <th>RainToday</th>\n",
       "      <th>RISK_MM</th>\n",
       "      <th>RainTomorrow</th>\n",
       "      <th>Year</th>\n",
       "      <th>Month</th>\n",
       "      <th>Day</th>\n",
       "    </tr>\n",
       "  </thead>\n",
       "  <tbody>\n",
       "    <tr>\n",
       "      <th>0</th>\n",
       "      <td>2</td>\n",
       "      <td>13.4</td>\n",
       "      <td>22.9</td>\n",
       "      <td>0.6</td>\n",
       "      <td>13</td>\n",
       "      <td>44.0</td>\n",
       "      <td>13</td>\n",
       "      <td>14</td>\n",
       "      <td>20.0</td>\n",
       "      <td>24.0</td>\n",
       "      <td>...</td>\n",
       "      <td>1007.7</td>\n",
       "      <td>1007.1</td>\n",
       "      <td>16.9</td>\n",
       "      <td>21.8</td>\n",
       "      <td>0</td>\n",
       "      <td>0.0</td>\n",
       "      <td>0</td>\n",
       "      <td>2008.0</td>\n",
       "      <td>12.0</td>\n",
       "      <td>1.0</td>\n",
       "    </tr>\n",
       "    <tr>\n",
       "      <th>1</th>\n",
       "      <td>2</td>\n",
       "      <td>7.4</td>\n",
       "      <td>25.1</td>\n",
       "      <td>0.0</td>\n",
       "      <td>14</td>\n",
       "      <td>44.0</td>\n",
       "      <td>6</td>\n",
       "      <td>15</td>\n",
       "      <td>4.0</td>\n",
       "      <td>22.0</td>\n",
       "      <td>...</td>\n",
       "      <td>1010.6</td>\n",
       "      <td>1007.8</td>\n",
       "      <td>17.2</td>\n",
       "      <td>24.3</td>\n",
       "      <td>0</td>\n",
       "      <td>0.0</td>\n",
       "      <td>0</td>\n",
       "      <td>2008.0</td>\n",
       "      <td>12.0</td>\n",
       "      <td>2.0</td>\n",
       "    </tr>\n",
       "    <tr>\n",
       "      <th>2</th>\n",
       "      <td>2</td>\n",
       "      <td>12.9</td>\n",
       "      <td>25.7</td>\n",
       "      <td>0.0</td>\n",
       "      <td>15</td>\n",
       "      <td>46.0</td>\n",
       "      <td>13</td>\n",
       "      <td>15</td>\n",
       "      <td>19.0</td>\n",
       "      <td>26.0</td>\n",
       "      <td>...</td>\n",
       "      <td>1007.6</td>\n",
       "      <td>1008.7</td>\n",
       "      <td>21.0</td>\n",
       "      <td>23.2</td>\n",
       "      <td>0</td>\n",
       "      <td>0.0</td>\n",
       "      <td>0</td>\n",
       "      <td>2008.0</td>\n",
       "      <td>12.0</td>\n",
       "      <td>3.0</td>\n",
       "    </tr>\n",
       "    <tr>\n",
       "      <th>3</th>\n",
       "      <td>2</td>\n",
       "      <td>9.2</td>\n",
       "      <td>28.0</td>\n",
       "      <td>0.0</td>\n",
       "      <td>4</td>\n",
       "      <td>24.0</td>\n",
       "      <td>9</td>\n",
       "      <td>0</td>\n",
       "      <td>11.0</td>\n",
       "      <td>9.0</td>\n",
       "      <td>...</td>\n",
       "      <td>1017.6</td>\n",
       "      <td>1012.8</td>\n",
       "      <td>18.1</td>\n",
       "      <td>26.5</td>\n",
       "      <td>0</td>\n",
       "      <td>1.0</td>\n",
       "      <td>0</td>\n",
       "      <td>2008.0</td>\n",
       "      <td>12.0</td>\n",
       "      <td>4.0</td>\n",
       "    </tr>\n",
       "    <tr>\n",
       "      <th>4</th>\n",
       "      <td>2</td>\n",
       "      <td>17.5</td>\n",
       "      <td>32.3</td>\n",
       "      <td>1.0</td>\n",
       "      <td>13</td>\n",
       "      <td>41.0</td>\n",
       "      <td>1</td>\n",
       "      <td>7</td>\n",
       "      <td>7.0</td>\n",
       "      <td>20.0</td>\n",
       "      <td>...</td>\n",
       "      <td>1010.8</td>\n",
       "      <td>1006.0</td>\n",
       "      <td>17.8</td>\n",
       "      <td>29.7</td>\n",
       "      <td>0</td>\n",
       "      <td>0.2</td>\n",
       "      <td>0</td>\n",
       "      <td>2008.0</td>\n",
       "      <td>12.0</td>\n",
       "      <td>5.0</td>\n",
       "    </tr>\n",
       "  </tbody>\n",
       "</table>\n",
       "<p>5 rows × 22 columns</p>\n",
       "</div>"
      ],
      "text/plain": [
       "   Location  MinTemp  MaxTemp  Rainfall  WindGustDir  WindGustSpeed  \\\n",
       "0         2     13.4     22.9       0.6           13           44.0   \n",
       "1         2      7.4     25.1       0.0           14           44.0   \n",
       "2         2     12.9     25.7       0.0           15           46.0   \n",
       "3         2      9.2     28.0       0.0            4           24.0   \n",
       "4         2     17.5     32.3       1.0           13           41.0   \n",
       "\n",
       "   WindDir9am  WindDir3pm  WindSpeed9am  WindSpeed3pm  ...  Pressure9am  \\\n",
       "0          13          14          20.0          24.0  ...       1007.7   \n",
       "1           6          15           4.0          22.0  ...       1010.6   \n",
       "2          13          15          19.0          26.0  ...       1007.6   \n",
       "3           9           0          11.0           9.0  ...       1017.6   \n",
       "4           1           7           7.0          20.0  ...       1010.8   \n",
       "\n",
       "   Pressure3pm  Temp9am  Temp3pm  RainToday  RISK_MM  RainTomorrow    Year  \\\n",
       "0       1007.1     16.9     21.8          0      0.0             0  2008.0   \n",
       "1       1007.8     17.2     24.3          0      0.0             0  2008.0   \n",
       "2       1008.7     21.0     23.2          0      0.0             0  2008.0   \n",
       "3       1012.8     18.1     26.5          0      1.0             0  2008.0   \n",
       "4       1006.0     17.8     29.7          0      0.2             0  2008.0   \n",
       "\n",
       "   Month  Day  \n",
       "0   12.0  1.0  \n",
       "1   12.0  2.0  \n",
       "2   12.0  3.0  \n",
       "3   12.0  4.0  \n",
       "4   12.0  5.0  \n",
       "\n",
       "[5 rows x 22 columns]"
      ]
     },
     "execution_count": 27,
     "metadata": {},
     "output_type": "execute_result"
    }
   ],
   "source": [
    "df.head()"
   ]
  },
  {
   "cell_type": "code",
   "execution_count": 28,
   "id": "06a99825",
   "metadata": {
    "execution": {
     "iopub.execute_input": "2025-05-04T20:40:05.377882Z",
     "iopub.status.busy": "2025-05-04T20:40:05.377561Z",
     "iopub.status.idle": "2025-05-04T20:40:05.389980Z",
     "shell.execute_reply": "2025-05-04T20:40:05.388384Z"
    },
    "papermill": {
     "duration": 0.033299,
     "end_time": "2025-05-04T20:40:05.391979",
     "exception": false,
     "start_time": "2025-05-04T20:40:05.358680",
     "status": "completed"
    },
    "tags": []
   },
   "outputs": [
    {
     "data": {
      "text/plain": [
       "array([0, 1])"
      ]
     },
     "execution_count": 28,
     "metadata": {},
     "output_type": "execute_result"
    }
   ],
   "source": [
    "df['RainTomorrow'].unique()"
   ]
  },
  {
   "cell_type": "markdown",
   "id": "0e0b8537",
   "metadata": {
    "papermill": {
     "duration": 0.03052,
     "end_time": "2025-05-04T20:40:05.441615",
     "exception": false,
     "start_time": "2025-05-04T20:40:05.411095",
     "status": "completed"
    },
    "tags": []
   },
   "source": [
    "# Splitting the data"
   ]
  },
  {
   "cell_type": "code",
   "execution_count": 29,
   "id": "33a3a2e2",
   "metadata": {
    "execution": {
     "iopub.execute_input": "2025-05-04T20:40:05.489055Z",
     "iopub.status.busy": "2025-05-04T20:40:05.488323Z",
     "iopub.status.idle": "2025-05-04T20:40:05.513738Z",
     "shell.execute_reply": "2025-05-04T20:40:05.512407Z"
    },
    "papermill": {
     "duration": 0.052706,
     "end_time": "2025-05-04T20:40:05.516327",
     "exception": false,
     "start_time": "2025-05-04T20:40:05.463621",
     "status": "completed"
    },
    "tags": []
   },
   "outputs": [],
   "source": [
    "x = df.drop('RainTomorrow',axis=1)\n",
    "y = df['RainTomorrow']"
   ]
  },
  {
   "cell_type": "code",
   "execution_count": 30,
   "id": "81eac246",
   "metadata": {
    "execution": {
     "iopub.execute_input": "2025-05-04T20:40:05.554163Z",
     "iopub.status.busy": "2025-05-04T20:40:05.553799Z",
     "iopub.status.idle": "2025-05-04T20:40:05.561820Z",
     "shell.execute_reply": "2025-05-04T20:40:05.560486Z"
    },
    "papermill": {
     "duration": 0.028435,
     "end_time": "2025-05-04T20:40:05.564100",
     "exception": false,
     "start_time": "2025-05-04T20:40:05.535665",
     "status": "completed"
    },
    "tags": []
   },
   "outputs": [],
   "source": [
    "#changing x and y to dataframes\n",
    "x=pd.DataFrame(x)\n",
    "y=pd.DataFrame(y)"
   ]
  },
  {
   "cell_type": "code",
   "execution_count": 31,
   "id": "b5d5a891",
   "metadata": {
    "execution": {
     "iopub.execute_input": "2025-05-04T20:40:05.601607Z",
     "iopub.status.busy": "2025-05-04T20:40:05.601256Z",
     "iopub.status.idle": "2025-05-04T20:40:06.313811Z",
     "shell.execute_reply": "2025-05-04T20:40:06.312193Z"
    },
    "papermill": {
     "duration": 0.735171,
     "end_time": "2025-05-04T20:40:06.316334",
     "exception": false,
     "start_time": "2025-05-04T20:40:05.581163",
     "status": "completed"
    },
    "tags": []
   },
   "outputs": [],
   "source": [
    "x_train, x_test, y_train, y_test = train_test_split(x,y,\n",
    "                                   test_size= 0.20, random_state=100, stratify=y)"
   ]
  },
  {
   "cell_type": "markdown",
   "id": "7184425a",
   "metadata": {
    "papermill": {
     "duration": 0.01603,
     "end_time": "2025-05-04T20:40:06.349765",
     "exception": false,
     "start_time": "2025-05-04T20:40:06.333735",
     "status": "completed"
    },
    "tags": []
   },
   "source": [
    "# Scaling"
   ]
  },
  {
   "cell_type": "code",
   "execution_count": 32,
   "id": "bce5c020",
   "metadata": {
    "execution": {
     "iopub.execute_input": "2025-05-04T20:40:06.381460Z",
     "iopub.status.busy": "2025-05-04T20:40:06.381108Z",
     "iopub.status.idle": "2025-05-04T20:40:06.458198Z",
     "shell.execute_reply": "2025-05-04T20:40:06.456835Z"
    },
    "papermill": {
     "duration": 0.095284,
     "end_time": "2025-05-04T20:40:06.460181",
     "exception": false,
     "start_time": "2025-05-04T20:40:06.364897",
     "status": "completed"
    },
    "tags": []
   },
   "outputs": [
    {
     "data": {
      "text/plain": [
       "['Scaling.joblib']"
      ]
     },
     "execution_count": 32,
     "metadata": {},
     "output_type": "execute_result"
    }
   ],
   "source": [
    "scaler_X = MinMaxScaler(feature_range=(0,1))\n",
    "x_train_scaled = scaler_X.fit_transform(x_train)\n",
    "x_test_scaled  = scaler_X.transform(x_test)\n",
    "\n",
    "joblib.dump(scaler_X,f'Scaling.joblib')"
   ]
  },
  {
   "cell_type": "markdown",
   "id": "cb273a39",
   "metadata": {
    "papermill": {
     "duration": 0.016086,
     "end_time": "2025-05-04T20:40:06.493298",
     "exception": false,
     "start_time": "2025-05-04T20:40:06.477212",
     "status": "completed"
    },
    "tags": []
   },
   "source": [
    "# Machine Learning Models"
   ]
  },
  {
   "cell_type": "code",
   "execution_count": 33,
   "id": "ccfcfc11",
   "metadata": {
    "execution": {
     "iopub.execute_input": "2025-05-04T20:40:06.529807Z",
     "iopub.status.busy": "2025-05-04T20:40:06.529462Z",
     "iopub.status.idle": "2025-05-04T20:40:06.536691Z",
     "shell.execute_reply": "2025-05-04T20:40:06.534282Z"
    },
    "papermill": {
     "duration": 0.027112,
     "end_time": "2025-05-04T20:40:06.539411",
     "exception": false,
     "start_time": "2025-05-04T20:40:06.512299",
     "status": "completed"
    },
    "tags": []
   },
   "outputs": [],
   "source": [
    "models ={\n",
    "    #'LogisticRegression' : LogisticRegression(),\n",
    "    #'GaussianNB' : GaussianNB(),\n",
    "    'Decision Tree Classifier': DecisionTreeClassifier( max_depth=10,random_state=42),\n",
    "    #'Random Forest Classifier': RandomForestClassifier(n_estimators=100, max_depth=10, random_state=42),\n",
    "    #'KNN Classifier': KNeighborsClassifier(n_neighbors=5),\n",
    "    #'SVC': SVC(kernel='linear', C=1.0)\n",
    "}"
   ]
  },
  {
   "cell_type": "code",
   "execution_count": 34,
   "id": "680ac3b4",
   "metadata": {
    "execution": {
     "iopub.execute_input": "2025-05-04T20:40:06.573389Z",
     "iopub.status.busy": "2025-05-04T20:40:06.573030Z",
     "iopub.status.idle": "2025-05-04T20:40:06.987896Z",
     "shell.execute_reply": "2025-05-04T20:40:06.986519Z"
    },
    "papermill": {
     "duration": 0.43589,
     "end_time": "2025-05-04T20:40:06.991974",
     "exception": false,
     "start_time": "2025-05-04T20:40:06.556084",
     "status": "completed"
    },
    "tags": []
   },
   "outputs": [
    {
     "name": "stderr",
     "output_type": "stream",
     "text": [
      "100%|██████████| 1/1 [00:00<00:00,  2.76it/s]\n"
     ]
    }
   ],
   "source": [
    "accuracy = []\n",
    "conf_matrices = {}\n",
    "\n",
    "from tqdm import tqdm\n",
    "for model_name, model in tqdm(models.items()):\n",
    "    # Train\n",
    "    model.fit(x_train_scaled, y_train)\n",
    "\n",
    "\n",
    "    # Predict once on train and once on test\n",
    "    y_pred_train = model.predict(x_train_scaled)\n",
    "    y_pred_test  = model.predict(x_test_scaled)\n",
    "    \n",
    "    # Compute train metrics\n",
    "    acc_train      = accuracy_score(y_train, y_pred_train)\n",
    "    pres_train     = precision_score(y_train, y_pred_train, average='weighted')\n",
    "    recall_train   = recall_score(y_train, y_pred_train, average='weighted')\n",
    "    f1_train       = f1_score(y_train, y_pred_train, average='weighted')\n",
    "    \n",
    "    # Compute test metrics\n",
    "    acc_test       = accuracy_score(y_test, y_pred_test)\n",
    "    pres_test      = precision_score(y_test, y_pred_test, average='weighted')\n",
    "    recall_test    = recall_score(y_test, y_pred_test, average='weighted')\n",
    "    f1_test        = f1_score(y_test, y_pred_test, average='weighted')\n",
    "    \n",
    "    # Store results\n",
    "    accuracy.append([\n",
    "        acc_train, pres_train, recall_train, f1_train,\n",
    "        acc_test,  pres_test,  recall_test,  f1_test\n",
    "    ])\n",
    "    # Save confusion matrix for test set\n",
    "    conf_matrices[model_name] = confusion_matrix(y_test, y_pred_test)\n",
    "\n",
    "    joblib.dump(model,f'model.joblib')"
   ]
  },
  {
   "cell_type": "code",
   "execution_count": 35,
   "id": "83f0abab",
   "metadata": {
    "execution": {
     "iopub.execute_input": "2025-05-04T20:40:07.034958Z",
     "iopub.status.busy": "2025-05-04T20:40:07.034618Z",
     "iopub.status.idle": "2025-05-04T20:40:07.052770Z",
     "shell.execute_reply": "2025-05-04T20:40:07.051548Z"
    },
    "papermill": {
     "duration": 0.042661,
     "end_time": "2025-05-04T20:40:07.055164",
     "exception": false,
     "start_time": "2025-05-04T20:40:07.012503",
     "status": "completed"
    },
    "tags": []
   },
   "outputs": [
    {
     "data": {
      "text/html": [
       "<div>\n",
       "<style scoped>\n",
       "    .dataframe tbody tr th:only-of-type {\n",
       "        vertical-align: middle;\n",
       "    }\n",
       "\n",
       "    .dataframe tbody tr th {\n",
       "        vertical-align: top;\n",
       "    }\n",
       "\n",
       "    .dataframe thead th {\n",
       "        text-align: right;\n",
       "    }\n",
       "</style>\n",
       "<table border=\"1\" class=\"dataframe\">\n",
       "  <thead>\n",
       "    <tr style=\"text-align: right;\">\n",
       "      <th></th>\n",
       "      <th>Acc_Train</th>\n",
       "      <th>Pre_Train</th>\n",
       "      <th>Rec_Train</th>\n",
       "      <th>F1_Train</th>\n",
       "      <th>Acc_Test</th>\n",
       "      <th>pre_Test</th>\n",
       "      <th>Rec_Test</th>\n",
       "      <th>F1_Test</th>\n",
       "    </tr>\n",
       "  </thead>\n",
       "  <tbody>\n",
       "    <tr>\n",
       "      <th>Decision Tree Classifier</th>\n",
       "      <td>1.0</td>\n",
       "      <td>1.0</td>\n",
       "      <td>1.0</td>\n",
       "      <td>1.0</td>\n",
       "      <td>1.0</td>\n",
       "      <td>1.0</td>\n",
       "      <td>1.0</td>\n",
       "      <td>1.0</td>\n",
       "    </tr>\n",
       "  </tbody>\n",
       "</table>\n",
       "</div>"
      ],
      "text/plain": [
       "                          Acc_Train  Pre_Train  Rec_Train  F1_Train  Acc_Test  \\\n",
       "Decision Tree Classifier        1.0        1.0        1.0       1.0       1.0   \n",
       "\n",
       "                          pre_Test  Rec_Test  F1_Test  \n",
       "Decision Tree Classifier       1.0       1.0      1.0  "
      ]
     },
     "execution_count": 35,
     "metadata": {},
     "output_type": "execute_result"
    }
   ],
   "source": [
    "pd.DataFrame(accuracy,columns=[\"Acc_Train\",\"Pre_Train\",\"Rec_Train\",\n",
    "                               \"F1_Train\",\"Acc_Test\",\"pre_Test\",\n",
    "                               \"Rec_Test\",\"F1_Test\"],index=models.keys())"
   ]
  },
  {
   "cell_type": "markdown",
   "id": "f4b45448",
   "metadata": {
    "papermill": {
     "duration": 0.017743,
     "end_time": "2025-05-04T20:40:07.091070",
     "exception": false,
     "start_time": "2025-05-04T20:40:07.073327",
     "status": "completed"
    },
    "tags": []
   },
   "source": [
    "# Confusion Matrix"
   ]
  },
  {
   "cell_type": "code",
   "execution_count": 36,
   "id": "50883d77",
   "metadata": {
    "execution": {
     "iopub.execute_input": "2025-05-04T20:40:07.127800Z",
     "iopub.status.busy": "2025-05-04T20:40:07.127462Z",
     "iopub.status.idle": "2025-05-04T20:40:07.495801Z",
     "shell.execute_reply": "2025-05-04T20:40:07.494472Z"
    },
    "papermill": {
     "duration": 0.38989,
     "end_time": "2025-05-04T20:40:07.497938",
     "exception": false,
     "start_time": "2025-05-04T20:40:07.108048",
     "status": "completed"
    },
    "tags": []
   },
   "outputs": [
    {
     "data": {
      "image/png": "[encoded data removed]",
      "text/plain": [
       "<Figure size 1200x500 with 2 Axes>"
      ]
     },
     "metadata": {},
     "output_type": "display_data"
    }
   ],
   "source": [
    "n_models = len(conf_matrices)\n",
    "n_cols = 2\n",
    "n_rows = (n_models + 1) // n_cols\n",
    "\n",
    "fig, axes = plt.subplots(n_rows, n_cols, figsize=(12, 5 * n_rows))\n",
    "axes = axes.flatten()\n",
    "\n",
    "for idx, (model_name, cm) in enumerate(conf_matrices.items()):\n",
    "    sns.heatmap(cm, annot=True, fmt='d', cmap='Blues', ax=axes[idx])\n",
    "    axes[idx].set_title(f'Confusion Matrix - {model_name}')\n",
    "    axes[idx].set_xlabel('Predicted')\n",
    "    axes[idx].set_ylabel('Actual')\n",
    "\n",
    "# If there are empty subplots, remove them\n",
    "for i in range(len(conf_matrices), len(axes)):\n",
    "    fig.delaxes(axes[i])"
   ]
  },
  {
   "cell_type": "code",
   "execution_count": 37,
   "id": "58fdc9bd",
   "metadata": {
    "execution": {
     "iopub.execute_input": "2025-05-04T20:40:07.541768Z",
     "iopub.status.busy": "2025-05-04T20:40:07.541311Z",
     "iopub.status.idle": "2025-05-04T20:40:07.551201Z",
     "shell.execute_reply": "2025-05-04T20:40:07.549579Z"
    },
    "papermill": {
     "duration": 0.033854,
     "end_time": "2025-05-04T20:40:07.553359",
     "exception": false,
     "start_time": "2025-05-04T20:40:07.519505",
     "status": "completed"
    },
    "tags": []
   },
   "outputs": [
    {
     "data": {
      "text/plain": [
       "Index(['Location', 'MinTemp', 'MaxTemp', 'Rainfall', 'WindGustDir',\n",
       "       'WindGustSpeed', 'WindDir9am', 'WindDir3pm', 'WindSpeed9am',\n",
       "       'WindSpeed3pm', 'Humidity9am', 'Humidity3pm', 'Pressure9am',\n",
       "       'Pressure3pm', 'Temp9am', 'Temp3pm', 'RainToday', 'RISK_MM', 'Year',\n",
       "       'Month', 'Day'],\n",
       "      dtype='object')"
      ]
     },
     "execution_count": 37,
     "metadata": {},
     "output_type": "execute_result"
    }
   ],
   "source": [
    "x_train.columns"
   ]
  }
 ],
 "metadata": {
  "kaggle": {
   "accelerator": "none",
   "dataSources": [
    {
     "datasetId": 429640,
     "sourceId": 816667,
     "sourceType": "datasetVersion"
    }
   ],
   "dockerImageVersionId": 31012,
   "isGpuEnabled": false,
   "isInternetEnabled": true,
   "language": "python",
   "sourceType": "notebook"
  },
  "kernelspec": {
   "display_name": "Python 3",
   "language": "python",
   "name": "python3"
  },
  "language_info": {
   "codemirror_mode": {
    "name": "ipython",
    "version": 3
   },
   "file_extension": ".py",
   "mimetype": "text/x-python",
   "name": "python",
   "nbconvert_exporter": "python",
   "pygments_lexer": "ipython3",
   "version": "3.11.11"
  },
  "papermill": {
   "default_parameters": {},
   "duration": 52.368934,
   "end_time": "2025-05-04T20:40:10.286320",
   "environment_variables": {},
   "exception": null,
   "input_path": "__notebook__.ipynb",
   "output_path": "__notebook__.ipynb",
   "parameters": {},
   "start_time": "2025-05-04T20:39:17.917386",
   "version": "2.6.0"
  }
 },
 "nbformat": 4,
 "nbformat_minor": 5
}
